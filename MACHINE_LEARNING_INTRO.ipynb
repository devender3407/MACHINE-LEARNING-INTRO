{
  "nbformat": 4,
  "nbformat_minor": 0,
  "metadata": {
    "colab": {
      "provenance": []
    },
    "kernelspec": {
      "name": "python3",
      "display_name": "Python 3"
    },
    "language_info": {
      "name": "python"
    }
  },
  "cells": [
    {
      "cell_type": "markdown",
      "source": [
        "# MACHINE LEARNING"
      ],
      "metadata": {
        "id": "w1wR7K3xP5Lw"
      }
    },
    {
      "cell_type": "markdown",
      "source": [
        "Question 1:- Explain the difference between AI, ML, Deep learning (DL), and data science(DS).\n",
        "\n",
        "Answer:- AI (Artificial Intelligence): MAKING MACHINES SMART ENOUGH TO DO TASKS LIKE HUMANS.\n",
        "\n",
        "ML (Machine Learning): A PART OF AI WHERE MACHINES LEARN FROM DATA AND IMPROVE WITH EXPERIENCE.\n",
        "\n",
        "DL (Deep Learning): A PART OF ML THAT USES MANY-LAYERED NEURAL NETWORKS, GREAT FOR IMAGES, SPEECH, AND TEXT.\n",
        "\n",
        "DS (Data Science): WORKING WITH DATA (COLLECTING, ANALYZING, VISUALIZING) TO GET USEFUL INSIGHTS, SOMETIMES USING AI/ML/DL."
      ],
      "metadata": {
        "id": "928lHeCsQQUm"
      }
    },
    {
      "cell_type": "markdown",
      "source": [
        "Question 2:- What are the types of machine learning ? Describe each with real world examples.\n",
        "\n",
        "Answer:- Supervised Learning: The machine learns from data that has both questions and answers. Used for predictions like house prices, email spam filter, or loan approval.\n",
        "\n",
        "Unsupervised Learning: The machine learns from data without answers. It finds hidden patterns or groups. Used for customer segmentation, product recommendations, or fraud detection.\n",
        "\n",
        "Semi-Supervised Learning: The machine learns from a small amount of answered data and a large amount of unanswered data. Used in medical image analysis or voice recognition.\n",
        "\n",
        "Reinforcement Learning: The machine learns by trying different actions and getting rewards or penalties. Used in self-driving cars, robots, and game-playing AI."
      ],
      "metadata": {
        "id": "yKgrwlJVU2lq"
      }
    },
    {
      "cell_type": "markdown",
      "source": [
        "Question 3:- Define overfitting, underfitting, and the bias-variance trade off in machine learning.\n",
        "\n",
        "Answer:- Overfitting:- When a model learns too much from the training data, including noise and random details.\n",
        "\n",
        "It performs very well on training data but poorly on new/unseen data.\n",
        "\n",
        "Example: A student memorizes past exam answers but cannot solve new questions.\n",
        "\n",
        "Underfitting:- When a model is too simple and cannot capture the patterns in the data.\n",
        "\n",
        "It performs poorly on both training data and new data.\n",
        "\n",
        "Example: A student only studies the basics and cannot answer even the practice questions.\n",
        "\n",
        "Bias-Variance Trade-off\n",
        "\n",
        "Bias: Error due to wrong assumptions in the model (too simple). High bias → underfitting.\n",
        "\n",
        "variance: Error due to too much sensitivity to training data (too complex). High variance → overfitting.\n",
        "\n",
        "Trade-off: The goal is to find the right balance between bias and variance so the model performs well on both training data and unseen data."
      ],
      "metadata": {
        "id": "gsJB8PE3WLV-"
      }
    },
    {
      "cell_type": "markdown",
      "source": [
        "Question 4:- What are outliers in a dataset, and list three common techniques for handling them.\n",
        "\n",
        "Answer:- Outliers:- Outliers are data points that are very different from the rest of the data.\n",
        "\n",
        "They can skew analysis or models if not handled properly.\n",
        "\n",
        "Example: In a dataset of people's ages, most are between 20–60, but one entry is 200 → that’s an outlier.\n",
        "\n",
        "Three Common Techniques to Handle Outliers\n",
        "\n",
        "Remove Outliers – Simply delete the extreme data points if they are errors or irrelevant.\n",
        "\n",
        "Cap or Floor (Winsorization) – Replace extreme values with a maximum or minimum threshold.\n",
        "\n",
        "Transform the Data – Apply transformations (like log or square root) to reduce the effect of outliers."
      ],
      "metadata": {
        "id": "6m_1s4JwXnGB"
      }
    },
    {
      "cell_type": "markdown",
      "source": [
        "Question 5:- Explain the process of handling missing values and mention one imputation technique for numerical and one for categorical data.\n",
        "\n",
        "Answer:- Handling Missing Values – Process\n",
        "\n",
        "Identify missing values in the dataset.\n",
        "\n",
        "Understand why they are missing (error, not recorded, irrelevant).\n",
        "\n",
        "Decide whether to:\n",
        "\n",
        "Remove rows/columns with too many missing values.\n",
        "\n",
        "Fill (impute) the missing values with reasonable substitutes.\n",
        "\n",
        "Imputation Techniques\n",
        "\n",
        "For Numerical Data:\n",
        "\n",
        "Mean Imputation → Replace missing values with the average of the column.\n",
        "\n",
        "Example: If ages are [20, 25, NaN, 30], fill NaN with mean = 25 → [20, 25, 25, 30].\n",
        "\n",
        "For Categorical Data:\n",
        "\n",
        "Mode Imputation → Replace missing values with the most frequent category.\n",
        "\n",
        "Example: If colors are [Red, Blue, NaN, Red], fill NaN with mode = Red → [Red, Blue, Red, Red]."
      ],
      "metadata": {
        "id": "hqySjmqHYWQD"
      }
    },
    {
      "cell_type": "markdown",
      "source": [
        "Question 6:-"
      ],
      "metadata": {
        "id": "OTeRhYUHa9vV"
      }
    },
    {
      "cell_type": "code",
      "source": [
        "from sklearn.datasets import make_classification\n",
        "import numpy as np\n",
        "from collections import Counter\n",
        "\n",
        "# Create synthetic imbalanced dataset\n",
        "X, y = make_classification(n_samples=1000, n_features=10, n_informative=5,\n",
        "                           n_redundant=2, n_clusters_per_class=1,\n",
        "                           weights=[0.9, 0.1], random_state=42)\n",
        "\n",
        "# Print class distribution\n",
        "class_distribution = Counter(y)\n",
        "print(\"Class distribution:\", class_distribution)\n"
      ],
      "metadata": {
        "id": "JV2UFIIncQll"
      },
      "execution_count": null,
      "outputs": []
    },
    {
      "cell_type": "markdown",
      "source": [
        "Question 7:-"
      ],
      "metadata": {
        "id": "_OtzhNPOcutn"
      }
    },
    {
      "cell_type": "code",
      "source": [
        "import pandas as pd\n",
        "\n",
        "# List of colors\n",
        "colors = ['Red', 'Green', 'Blue', 'Green', 'Red']\n",
        "\n",
        "# Create dataframe\n",
        "df = pd.DataFrame({'Color': colors})\n",
        "\n",
        "# One-hot encoding\n",
        "one_hot = pd.get_dummies(df['Color'])\n",
        "\n",
        "# Combine with original dataframe\n",
        "result = pd.concat([df, one_hot], axis=1)\n",
        "\n",
        "print(result)\n"
      ],
      "metadata": {
        "id": "jOS12_l4cyXa"
      },
      "execution_count": null,
      "outputs": []
    },
    {
      "cell_type": "markdown",
      "source": [
        "Question 8:-"
      ],
      "metadata": {
        "id": "oOCEOVMqc1PL"
      }
    },
    {
      "cell_type": "code",
      "source": [
        "import numpy as np\n",
        "import matplotlib.pyplot as plt\n",
        "import pandas as pd\n",
        "\n",
        "# Step 1: Generate 1000 samples from a normal distribution\n",
        "data = np.random.randn(1000)\n",
        "\n",
        "# Step 2: Introduce 50 random missing values\n",
        "data_with_nan = data.copy()\n",
        "missing_indices = np.random.choice(len(data), 50, replace=False)\n",
        "data_with_nan[missing_indices] = np.nan\n",
        "\n",
        "# Step 3: Fill missing values with column mean\n",
        "df = pd.DataFrame(data_with_nan, columns=[\"values\"])\n",
        "mean_value = df[\"values\"].mean()\n",
        "df[\"imputed\"] = df[\"values\"].fillna(mean_value)\n",
        "\n",
        "# Step 4: Plot histograms before and after imputation\n",
        "plt.figure(figsize=(12, 5))\n",
        "\n",
        "plt.subplot(1, 2, 1)\n",
        "plt.hist(df[\"values\"].dropna(), bins=30, color='skyblue', edgecolor='black')\n",
        "plt.title(\"Before Imputation (with NaNs removed)\")\n",
        "\n",
        "plt.subplot(1, 2, 2)\n",
        "plt.hist(df[\"imputed\"], bins=30, color='lightgreen', edgecolor='black')\n",
        "plt.title(\"After Imputation (NaNs filled with mean)\")\n",
        "\n",
        "plt.tight_layout()\n",
        "plt.show()\n"
      ],
      "metadata": {
        "colab": {
          "base_uri": "https://localhost:8080/",
          "height": 507
        },
        "id": "UZEbBqd9c4wa",
        "outputId": "fdfc6429-4ad9-4795-bafc-b33b47c568c2"
      },
      "execution_count": 1,
      "outputs": [
        {
          "output_type": "display_data",
          "data": {
            "text/plain": [
              "<Figure size 1200x500 with 2 Axes>"
            ],
            "image/png": "[encoded data removed]"
          },
          "metadata": {}
        }
      ]
    },
    {
      "cell_type": "markdown",
      "source": [
        "Question 9:-"
      ],
      "metadata": {
        "id": "MDAdkCURJMoM"
      }
    },
    {
      "cell_type": "code",
      "source": [
        "from sklearn.preprocessing import MinMaxScaler\n",
        "import numpy as np\n",
        "\n",
        "# Step 1: Create the data\n",
        "data = np.array([2, 5, 10, 15, 20]).reshape(-1, 1)\n",
        "\n",
        "# Step 2: Apply Min-Max Scaling\n",
        "scaler = MinMaxScaler()\n",
        "scaled_data = scaler.fit_transform(data)\n",
        "\n",
        "# Step 3: Print scaled array\n",
        "print(\"Original Data:\\n\", data.flatten())\n",
        "print(\"Scaled Data:\\n\", scaled_data.flatten())\n"
      ],
      "metadata": {
        "colab": {
          "base_uri": "https://localhost:8080/"
        },
        "id": "HuHHp3OwJPhS",
        "outputId": "0a037a7b-b339-4fb9-bad8-ae05f0f94c95"
      },
      "execution_count": 2,
      "outputs": [
        {
          "output_type": "stream",
          "name": "stdout",
          "text": [
            "Original Data:\n",
            " [ 2  5 10 15 20]\n",
            "Scaled Data:\n",
            " [0.         0.16666667 0.44444444 0.72222222 1.        ]\n"
          ]
        }
      ]
    },
    {
      "cell_type": "markdown",
      "source": [
        "Question 10:-"
      ],
      "metadata": {
        "id": "AU0Y5WQ2Jt_h"
      }
    },
    {
      "cell_type": "code",
      "source": [
        "import pandas as pd\n",
        "import numpy as np\n",
        "from sklearn.impute import SimpleImputer\n",
        "from sklearn.preprocessing import OneHotEncoder, StandardScaler\n",
        "from imblearn.over_sampling import SMOTE\n",
        "\n",
        "# Example dataset\n",
        "data = {\n",
        "    'age': [25, 32, np.nan, 45, 50, np.nan, 29],\n",
        "    'transaction_amount': [20, 5000, 50, 75, 100000, 60, 45],\n",
        "    'payment_method': ['card', 'cash', 'upi', 'card', 'cash', 'upi', 'card'],\n",
        "    'fraud': [0, 1, 0, 0, 1, 0, 0]\n",
        "}\n",
        "\n",
        "df = pd.DataFrame(data)\n",
        "\n",
        "# 1. Handle missing ages (Median Imputation)\n",
        "imputer = SimpleImputer(strategy='median')\n",
        "df['age'] = imputer.fit_transform(df[['age']])\n",
        "\n",
        "# 2. Handle outliers in transaction_amount (Log Transform)\n",
        "df['transaction_amount'] = np.log1p(df['transaction_amount'])\n",
        "\n",
        "# 3. Handle categorical variables (OneHotEncoding)\n",
        "# Use sparse_output=False for sklearn >= 1.2, sparse=False for older versions\n",
        "encoder = OneHotEncoder(drop='first', sparse_output=False)\n",
        "encoded = encoder.fit_transform(df[['payment_method']])\n",
        "encoded_df = pd.DataFrame(encoded, columns=encoder.get_feature_names_out(['payment_method']))\n",
        "df = pd.concat([df.drop('payment_method', axis=1), encoded_df], axis=1)\n",
        "\n",
        "# Features and Target\n",
        "X = df.drop('fraud', axis=1)\n",
        "y = df['fraud']\n",
        "\n",
        "# 4. Handle imbalance (SMOTE Oversampling)\n",
        "smote = SMOTE(random_state=42)\n",
        "X_resampled, y_resampled = smote.fit_resample(X, y)\n",
        "\n",
        "# 5. Scaling numerical features\n",
        "scaler = StandardScaler()\n",
        "X_resampled[['age', 'transaction_amount']] = scaler.fit_transform(\n",
        "    X_resampled[['age', 'transaction_amount']]\n",
        ")\n",
        "\n",
        "# Final outputs\n",
        "print(\"Original Class Distribution:\\n\", y.value_counts())\n",
        "print(\"\\nAfter SMOTE Resampling:\\n\", y_resampled.value_counts())\n",
        "print(\"\\nPrepared Data (first 5 rows):\\n\", X_resampled.head())\n"
      ],
      "metadata": {
        "collapsed": true,
        "id": "VrIMVq_TMggJ"
      },
      "execution_count": null,
      "outputs": []
    }
  ]
}